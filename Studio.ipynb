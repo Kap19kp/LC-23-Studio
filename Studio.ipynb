{
    "metadata": {
        "kernelspec": {
            "name": "SQL",
            "display_name": "SQL",
            "language": "sql"
        },
        "language_info": {
            "name": "sql",
            "version": ""
        },
        "extensions": {
            "azuredatastudio": {
                "version": 1,
                "views": []
            }
        }
    },
    "nbformat_minor": 2,
    "nbformat": 4,
    "cells": [
        {
            "cell_type": "markdown",
            "source": [
                "# Lesson 14 Studio:  A Library Service\n",
                "\n",
                "## Setting Up Your Data\n",
                "\n",
                "You will be creating 5 new tables within your own schema.\n",
                "\n",
                "4 of the tables can be populated using the starter code which can be found in the folder \"[Starter Code](https://github.com/speudusa/SQL-Part-5-Studio/tree/master/Starter%20Code)\" in the studio GitHub repository. \n",
                "\n",
                "After setting up the data you should have the following five tables:\n",
                "\n",
                "1. book\n",
                "2. author\n",
                "3. patron\n",
                "4. genre\n",
                "5. loan"
            ],
            "metadata": {
                "azdata_cell_guid": "928fed11-edfb-4971-8795-99e1a2479024"
            },
            "attachments": {}
        },
        {
            "cell_type": "markdown",
            "source": [
                "## **Part A: Setting Up Your Tables**\n",
                "\n",
                "### **Book Table**\n",
                "\n",
                "To create the **book** table, you can use the following SQL query:\n",
                "\n",
                "```\n",
                "CREATE TABLE [DB].[schema].book (\n",
                "    book_id INT IDENTITY(1,1) PRIMARY KEY, \n",
                "    author_id INT,\n",
                "    title VARCHAR(255),\n",
                "    isbn INT,\n",
                "    available BIT,\n",
                "    genre_id INT\n",
                ");\n",
                "```\n",
                "\n",
                "_A few notes on this syntax:_\n",
                "\n",
                "> On Auto-incrementing:\n",
                "> \n",
                "> We are going to have SQL help us assign book\\_id numbers using auto-incrementing using the **IDENTITY** property.\n",
                "> \n",
                "> The [IDENTITY](https://docs.microsoft.com/en-us/sql/t-sql/statements/create-table-transact-sql-identity-property?view=sql-server-ver15) syntax is as follows: **IDENTITY(seed, increment)**.  We want to seed the first id number as 1 in this table and increment by 1 for each following book\\_id.\n",
                "\n",
                "> On BIT datatypes:\n",
                "> \n",
                "> For the **available** column, we are going to use the [BIT datatype](https://docs.microsoft.com/en-us/sql/t-sql/data-types/bit-transact-sql?view=sql-server-ver15) to represent True or False values.  Bit allows three entries: 0 which will stand for false,  1 which will stand for true,  and NULL.\n",
                "\n",
                "> On CREATE TABLES:\n",
                "> \n",
                "> You may only create a table once.  You may comment out your creation query once you run it."
            ],
            "metadata": {
                "azdata_cell_guid": "3cd07164-2b30-427a-9b61-2889c08cdf24"
            },
            "attachments": {}
        },
        {
            "cell_type": "code",
            "source": [
                "-- Create the book table here.  Update the name of the database and schema.\n",
                "CREATE TABLE JunkDB_KC.Kristal.book (\n",
                "    book_id INT IDENTITY(1,1) PRIMARY KEY, \n",
                "    author_id INT,\n",
                "    title VARCHAR(255),\n",
                "    isbn INT,\n",
                "    available BIT,\n",
                "    genre_id INT\n",
                ");"
            ],
            "metadata": {
                "azdata_cell_guid": "754ed0e1-18d8-4a12-ac6c-c19d7f671a0d",
                "tags": [],
                "language": "sql"
            },
            "outputs": [
                {
                    "output_type": "display_data",
                    "data": {
                        "text/html": "Commands completed successfully."
                    },
                    "metadata": {}
                },
                {
                    "output_type": "display_data",
                    "data": {
                        "text/html": "Total execution time: 00:00:00.057"
                    },
                    "metadata": {}
                }
            ],
            "execution_count": 1
        },
        {
            "cell_type": "markdown",
            "source": [
                "### Populate the **book** table.\n",
                "\n",
                "For the starter data, use the [book\\_data.ipynb notebook](https://github.com/speudusa/SQL-Part-5-Studio/tree/master/Starter%20Code).\n",
                "\n",
                "> You may copy/paste the commands into the next code block.  You will need to update each INSERT statement to contain the names of your database and schema."
            ],
            "metadata": {
                "azdata_cell_guid": "8a158f8e-a006-4b9c-a5b0-8dca2c8ed558"
            },
            "attachments": {}
        },
        {
            "cell_type": "code",
            "source": [
                "-- Paste the book data values in this code box.  Be sure to update database and schema names.\n",
                "INSERT INTO [JunkDB_KC].[Kristal].book(author_id, title, isbn, available, genre_id)\n",
                "VALUES (2, 'A Midsummers Night Dream', 978149413, 1, 23),\n",
                "(2, 'Romeo and Juliet', 988535196, 1, 3), \n",
                "(1, 'The Golden Compass', 451664226, 1, 1),\n",
                "(1, 'The Subtle Knife', 160419390, 1, 1),\n",
                "(1, 'The Amber Spyglass', 94387895, 1, 1), \n",
                "(3, 'The Alchemist', 464069772, 1, 2),\n",
                "(4, 'And Then There Were None', 335973357, 1, 6),\n",
                "(5, 'The Joy Luck Club', 990050329, 1, 10),\n",
                "(5, 'The Moon Lady', 91720786, 1, 24),\n",
                "(6, 'Sense and Sensibility', 156879860, 1, 2),\n",
                "(6, 'Northanger Abbey', 951273178, 1, 3),\n",
                "(6, 'Pride and Prejudice', 415886839, 1, 3),\n",
                "(6, 'Mansfield Park', 188534067, 1, 3),\n",
                "(6, 'Emma', 994896202, 1, 3),\n",
                "(6, 'Persuasion', 28150097, 1, 3),\n",
                "(6, 'Lady Susan', 230962926, 1, 3),\n",
                "(7, 'Wuthering Heights', 280569946, 1, 3),\n",
                "(8, 'The Handmaids Tale', 639239663, 1, 5),\n",
                "(8, 'The Testaments', 826875490, 1, 5),\n",
                "(9, 'The Parable of the Sower', 283359358, 1, 5),\n",
                "(10, 'Little Women', 495409887, 1, 23),\n",
                "(11, 'Still Life', 455128657, 1, 6),\n",
                "(11, 'A Fatal Grace', 832517012, 1, 6),\n",
                "(11, 'The Cruelest Month', 419285319, 1, 6),\n",
                "(11, 'The Murder Stone', 656621400, 1, 6),\n",
                "(11, 'The Brutal Telling', 144255852, 1, 6),\n",
                "(11, 'Bury Your Dead', 208180961, 1, 6),\n",
                "(11, 'A Trick of the Light', 93451531, 1, 6),\n",
                "(12, 'Midnights Children', 881082293, 1, 10),\n",
                "(13, 'Dont Let the Pigeon Drive the Bus!', 18409532, 1, 24),\n",
                "(14, 'Beezus and Ramona', 744412630, 1, 24),\n",
                "(15, 'Organic Chemistry', 604328803, 1, 25),\n",
                "(16, 'I Know Why the Caged Bird Sings', 909947112, 1, 12),\n",
                "(17, 'Beloved', 46736233, 1, 10),\n",
                "(18, 'Brassbones and Rainbows', 330608463, 1, 26);\n",
                "     "
            ],
            "metadata": {
                "azdata_cell_guid": "1abb744a-1418-4a8a-83c6-837676f6f47b",
                "tags": [],
                "language": "sql"
            },
            "outputs": [
                {
                    "output_type": "display_data",
                    "data": {
                        "text/html": "(35 rows affected)"
                    },
                    "metadata": {}
                },
                {
                    "output_type": "display_data",
                    "data": {
                        "text/html": "Total execution time: 00:00:00.050"
                    },
                    "metadata": {}
                }
            ],
            "execution_count": 2
        },
        {
            "cell_type": "code",
            "source": [
                "SELECT * \r\n",
                "FROM Kristal.book"
            ],
            "metadata": {
                "azdata_cell_guid": "d880b2bc-9970-4aee-9079-54cffdb249d0",
                "language": "sql"
            },
            "outputs": [
                {
                    "output_type": "display_data",
                    "data": {
                        "text/html": "(35 rows affected)"
                    },
                    "metadata": {}
                },
                {
                    "output_type": "display_data",
                    "data": {
                        "text/html": "Total execution time: 00:00:00.096"
                    },
                    "metadata": {}
                },
                {
                    "output_type": "execute_result",
                    "execution_count": 73,
                    "data": {
                        "application/vnd.dataresource+json": {
                            "schema": {
                                "fields": [
                                    {
                                        "name": "book_id"
                                    },
                                    {
                                        "name": "author_id"
                                    },
                                    {
                                        "name": "title"
                                    },
                                    {
                                        "name": "isbn"
                                    },
                                    {
                                        "name": "available"
                                    },
                                    {
                                        "name": "genre_id"
                                    }
                                ]
                            },
                            "data": [
                                {
                                    "0": "1",
                                    "1": "2",
                                    "2": "A Midsummers Night Dream",
                                    "3": "978149413",
                                    "4": "1",
                                    "5": "23"
                                },
                                {
                                    "0": "2",
                                    "1": "2",
                                    "2": "Romeo and Juliet",
                                    "3": "988535196",
                                    "4": "1",
                                    "5": "3"
                                },
                                {
                                    "0": "3",
                                    "1": "1",
                                    "2": "The Golden Compass",
                                    "3": "451664226",
                                    "4": "1",
                                    "5": "1"
                                },
                                {
                                    "0": "4",
                                    "1": "1",
                                    "2": "The Subtle Knife",
                                    "3": "160419390",
                                    "4": "1",
                                    "5": "1"
                                },
                                {
                                    "0": "5",
                                    "1": "1",
                                    "2": "The Amber Spyglass",
                                    "3": "94387895",
                                    "4": "1",
                                    "5": "1"
                                },
                                {
                                    "0": "6",
                                    "1": "3",
                                    "2": "The Alchemist",
                                    "3": "464069772",
                                    "4": "1",
                                    "5": "2"
                                },
                                {
                                    "0": "7",
                                    "1": "4",
                                    "2": "And Then There Were None",
                                    "3": "335973357",
                                    "4": "1",
                                    "5": "6"
                                },
                                {
                                    "0": "8",
                                    "1": "5",
                                    "2": "The Joy Luck Club",
                                    "3": "990050329",
                                    "4": "1",
                                    "5": "10"
                                },
                                {
                                    "0": "9",
                                    "1": "5",
                                    "2": "The Moon Lady",
                                    "3": "91720786",
                                    "4": "1",
                                    "5": "24"
                                },
                                {
                                    "0": "10",
                                    "1": "6",
                                    "2": "Sense and Sensibility",
                                    "3": "156879860",
                                    "4": "1",
                                    "5": "2"
                                },
                                {
                                    "0": "11",
                                    "1": "6",
                                    "2": "Northanger Abbey",
                                    "3": "951273178",
                                    "4": "1",
                                    "5": "3"
                                },
                                {
                                    "0": "12",
                                    "1": "6",
                                    "2": "Pride and Prejudice",
                                    "3": "415886839",
                                    "4": "1",
                                    "5": "3"
                                },
                                {
                                    "0": "13",
                                    "1": "6",
                                    "2": "Mansfield Park",
                                    "3": "188534067",
                                    "4": "1",
                                    "5": "3"
                                },
                                {
                                    "0": "14",
                                    "1": "6",
                                    "2": "Emma",
                                    "3": "994896202",
                                    "4": "0",
                                    "5": "3"
                                },
                                {
                                    "0": "15",
                                    "1": "6",
                                    "2": "Persuasion",
                                    "3": "28150097",
                                    "4": "1",
                                    "5": "3"
                                },
                                {
                                    "0": "16",
                                    "1": "6",
                                    "2": "Lady Susan",
                                    "3": "230962926",
                                    "4": "1",
                                    "5": "3"
                                },
                                {
                                    "0": "17",
                                    "1": "7",
                                    "2": "Wuthering Heights",
                                    "3": "280569946",
                                    "4": "1",
                                    "5": "3"
                                },
                                {
                                    "0": "18",
                                    "1": "8",
                                    "2": "The Handmaids Tale",
                                    "3": "639239663",
                                    "4": "1",
                                    "5": "5"
                                },
                                {
                                    "0": "19",
                                    "1": "8",
                                    "2": "The Testaments",
                                    "3": "826875490",
                                    "4": "1",
                                    "5": "5"
                                },
                                {
                                    "0": "20",
                                    "1": "9",
                                    "2": "The Parable of the Sower",
                                    "3": "283359358",
                                    "4": "1",
                                    "5": "5"
                                },
                                {
                                    "0": "21",
                                    "1": "10",
                                    "2": "Little Women",
                                    "3": "495409887",
                                    "4": "1",
                                    "5": "23"
                                },
                                {
                                    "0": "22",
                                    "1": "11",
                                    "2": "Still Life",
                                    "3": "455128657",
                                    "4": "1",
                                    "5": "6"
                                },
                                {
                                    "0": "23",
                                    "1": "11",
                                    "2": "A Fatal Grace",
                                    "3": "832517012",
                                    "4": "1",
                                    "5": "6"
                                },
                                {
                                    "0": "24",
                                    "1": "11",
                                    "2": "The Cruelest Month",
                                    "3": "419285319",
                                    "4": "1",
                                    "5": "6"
                                },
                                {
                                    "0": "25",
                                    "1": "11",
                                    "2": "The Murder Stone",
                                    "3": "656621400",
                                    "4": "1",
                                    "5": "6"
                                },
                                {
                                    "0": "26",
                                    "1": "11",
                                    "2": "The Brutal Telling",
                                    "3": "144255852",
                                    "4": "1",
                                    "5": "6"
                                },
                                {
                                    "0": "27",
                                    "1": "11",
                                    "2": "Bury Your Dead",
                                    "3": "208180961",
                                    "4": "1",
                                    "5": "6"
                                },
                                {
                                    "0": "28",
                                    "1": "11",
                                    "2": "A Trick of the Light",
                                    "3": "93451531",
                                    "4": "1",
                                    "5": "6"
                                },
                                {
                                    "0": "29",
                                    "1": "12",
                                    "2": "Midnights Children",
                                    "3": "881082293",
                                    "4": "1",
                                    "5": "10"
                                },
                                {
                                    "0": "30",
                                    "1": "13",
                                    "2": "Dont Let the Pigeon Drive the Bus!",
                                    "3": "18409532",
                                    "4": "1",
                                    "5": "24"
                                },
                                {
                                    "0": "31",
                                    "1": "14",
                                    "2": "Beezus and Ramona",
                                    "3": "744412630",
                                    "4": "1",
                                    "5": "24"
                                },
                                {
                                    "0": "32",
                                    "1": "15",
                                    "2": "Organic Chemistry",
                                    "3": "604328803",
                                    "4": "1",
                                    "5": "25"
                                },
                                {
                                    "0": "33",
                                    "1": "16",
                                    "2": "I Know Why the Caged Bird Sings",
                                    "3": "909947112",
                                    "4": "1",
                                    "5": "12"
                                },
                                {
                                    "0": "34",
                                    "1": "17",
                                    "2": "Beloved",
                                    "3": "46736233",
                                    "4": "1",
                                    "5": "10"
                                },
                                {
                                    "0": "35",
                                    "1": "18",
                                    "2": "Brassbones and Rainbows",
                                    "3": "330608463",
                                    "4": "1",
                                    "5": "26"
                                }
                            ]
                        },
                        "text/html": "<table><tr><th>book_id</th><th>author_id</th><th>title</th><th>isbn</th><th>available</th><th>genre_id</th></tr><tr><td>1</td><td>2</td><td>A Midsummers Night Dream</td><td>978149413</td><td>1</td><td>23</td></tr><tr><td>2</td><td>2</td><td>Romeo and Juliet</td><td>988535196</td><td>1</td><td>3</td></tr><tr><td>3</td><td>1</td><td>The Golden Compass</td><td>451664226</td><td>1</td><td>1</td></tr><tr><td>4</td><td>1</td><td>The Subtle Knife</td><td>160419390</td><td>1</td><td>1</td></tr><tr><td>5</td><td>1</td><td>The Amber Spyglass</td><td>94387895</td><td>1</td><td>1</td></tr><tr><td>6</td><td>3</td><td>The Alchemist</td><td>464069772</td><td>1</td><td>2</td></tr><tr><td>7</td><td>4</td><td>And Then There Were None</td><td>335973357</td><td>1</td><td>6</td></tr><tr><td>8</td><td>5</td><td>The Joy Luck Club</td><td>990050329</td><td>1</td><td>10</td></tr><tr><td>9</td><td>5</td><td>The Moon Lady</td><td>91720786</td><td>1</td><td>24</td></tr><tr><td>10</td><td>6</td><td>Sense and Sensibility</td><td>156879860</td><td>1</td><td>2</td></tr><tr><td>11</td><td>6</td><td>Northanger Abbey</td><td>951273178</td><td>1</td><td>3</td></tr><tr><td>12</td><td>6</td><td>Pride and Prejudice</td><td>415886839</td><td>1</td><td>3</td></tr><tr><td>13</td><td>6</td><td>Mansfield Park</td><td>188534067</td><td>1</td><td>3</td></tr><tr><td>14</td><td>6</td><td>Emma</td><td>994896202</td><td>0</td><td>3</td></tr><tr><td>15</td><td>6</td><td>Persuasion</td><td>28150097</td><td>1</td><td>3</td></tr><tr><td>16</td><td>6</td><td>Lady Susan</td><td>230962926</td><td>1</td><td>3</td></tr><tr><td>17</td><td>7</td><td>Wuthering Heights</td><td>280569946</td><td>1</td><td>3</td></tr><tr><td>18</td><td>8</td><td>The Handmaids Tale</td><td>639239663</td><td>1</td><td>5</td></tr><tr><td>19</td><td>8</td><td>The Testaments</td><td>826875490</td><td>1</td><td>5</td></tr><tr><td>20</td><td>9</td><td>The Parable of the Sower</td><td>283359358</td><td>1</td><td>5</td></tr><tr><td>21</td><td>10</td><td>Little Women</td><td>495409887</td><td>1</td><td>23</td></tr><tr><td>22</td><td>11</td><td>Still Life</td><td>455128657</td><td>1</td><td>6</td></tr><tr><td>23</td><td>11</td><td>A Fatal Grace</td><td>832517012</td><td>1</td><td>6</td></tr><tr><td>24</td><td>11</td><td>The Cruelest Month</td><td>419285319</td><td>1</td><td>6</td></tr><tr><td>25</td><td>11</td><td>The Murder Stone</td><td>656621400</td><td>1</td><td>6</td></tr><tr><td>26</td><td>11</td><td>The Brutal Telling</td><td>144255852</td><td>1</td><td>6</td></tr><tr><td>27</td><td>11</td><td>Bury Your Dead</td><td>208180961</td><td>1</td><td>6</td></tr><tr><td>28</td><td>11</td><td>A Trick of the Light</td><td>93451531</td><td>1</td><td>6</td></tr><tr><td>29</td><td>12</td><td>Midnights Children</td><td>881082293</td><td>1</td><td>10</td></tr><tr><td>30</td><td>13</td><td>Dont Let the Pigeon Drive the Bus!</td><td>18409532</td><td>1</td><td>24</td></tr><tr><td>31</td><td>14</td><td>Beezus and Ramona</td><td>744412630</td><td>1</td><td>24</td></tr><tr><td>32</td><td>15</td><td>Organic Chemistry</td><td>604328803</td><td>1</td><td>25</td></tr><tr><td>33</td><td>16</td><td>I Know Why the Caged Bird Sings</td><td>909947112</td><td>1</td><td>12</td></tr><tr><td>34</td><td>17</td><td>Beloved</td><td>46736233</td><td>1</td><td>10</td></tr><tr><td>35</td><td>18</td><td>Brassbones and Rainbows</td><td>330608463</td><td>1</td><td>26</td></tr></table>"
                    },
                    "metadata": {}
                }
            ],
            "execution_count": 73
        },
        {
            "cell_type": "markdown",
            "source": [
                "### Test your data.  \n",
                "\n",
                "Run a quick query of your choice to see if the book table was properly created."
            ],
            "metadata": {
                "azdata_cell_guid": "1fe68960-aaec-456d-bbd9-4e00d73f542d"
            },
            "attachments": {}
        },
        {
            "cell_type": "code",
            "source": [
                "-- test your book table here.\r\n",
                "SELECT *\r\n",
                "FROM [JunkDB_KC].[Kristal].book"
            ],
            "metadata": {
                "azdata_cell_guid": "b0d6fa80-cde5-46d3-a2c2-d93dbfb1805f",
                "language": "sql"
            },
            "outputs": [
                {
                    "output_type": "display_data",
                    "data": {
                        "text/html": "(35 rows affected)"
                    },
                    "metadata": {}
                },
                {
                    "output_type": "display_data",
                    "data": {
                        "text/html": "Total execution time: 00:00:00.099"
                    },
                    "metadata": {}
                },
                {
                    "output_type": "execute_result",
                    "execution_count": 4,
                    "data": {
                        "application/vnd.dataresource+json": {
                            "schema": {
                                "fields": [
                                    {
                                        "name": "book_id"
                                    },
                                    {
                                        "name": "author_id"
                                    },
                                    {
                                        "name": "title"
                                    },
                                    {
                                        "name": "isbn"
                                    },
                                    {
                                        "name": "available"
                                    },
                                    {
                                        "name": "genre_id"
                                    }
                                ]
                            },
                            "data": [
                                {
                                    "0": "1",
                                    "1": "2",
                                    "2": "A Midsummers Night Dream",
                                    "3": "978149413",
                                    "4": "1",
                                    "5": "23"
                                },
                                {
                                    "0": "2",
                                    "1": "2",
                                    "2": "Romeo and Juliet",
                                    "3": "988535196",
                                    "4": "1",
                                    "5": "3"
                                },
                                {
                                    "0": "3",
                                    "1": "1",
                                    "2": "The Golden Compass",
                                    "3": "451664226",
                                    "4": "1",
                                    "5": "1"
                                },
                                {
                                    "0": "4",
                                    "1": "1",
                                    "2": "The Subtle Knife",
                                    "3": "160419390",
                                    "4": "1",
                                    "5": "1"
                                },
                                {
                                    "0": "5",
                                    "1": "1",
                                    "2": "The Amber Spyglass",
                                    "3": "94387895",
                                    "4": "1",
                                    "5": "1"
                                },
                                {
                                    "0": "6",
                                    "1": "3",
                                    "2": "The Alchemist",
                                    "3": "464069772",
                                    "4": "1",
                                    "5": "2"
                                },
                                {
                                    "0": "7",
                                    "1": "4",
                                    "2": "And Then There Were None",
                                    "3": "335973357",
                                    "4": "1",
                                    "5": "6"
                                },
                                {
                                    "0": "8",
                                    "1": "5",
                                    "2": "The Joy Luck Club",
                                    "3": "990050329",
                                    "4": "1",
                                    "5": "10"
                                },
                                {
                                    "0": "9",
                                    "1": "5",
                                    "2": "The Moon Lady",
                                    "3": "91720786",
                                    "4": "1",
                                    "5": "24"
                                },
                                {
                                    "0": "10",
                                    "1": "6",
                                    "2": "Sense and Sensibility",
                                    "3": "156879860",
                                    "4": "1",
                                    "5": "2"
                                },
                                {
                                    "0": "11",
                                    "1": "6",
                                    "2": "Northanger Abbey",
                                    "3": "951273178",
                                    "4": "1",
                                    "5": "3"
                                },
                                {
                                    "0": "12",
                                    "1": "6",
                                    "2": "Pride and Prejudice",
                                    "3": "415886839",
                                    "4": "1",
                                    "5": "3"
                                },
                                {
                                    "0": "13",
                                    "1": "6",
                                    "2": "Mansfield Park",
                                    "3": "188534067",
                                    "4": "1",
                                    "5": "3"
                                },
                                {
                                    "0": "14",
                                    "1": "6",
                                    "2": "Emma",
                                    "3": "994896202",
                                    "4": "1",
                                    "5": "3"
                                },
                                {
                                    "0": "15",
                                    "1": "6",
                                    "2": "Persuasion",
                                    "3": "28150097",
                                    "4": "1",
                                    "5": "3"
                                },
                                {
                                    "0": "16",
                                    "1": "6",
                                    "2": "Lady Susan",
                                    "3": "230962926",
                                    "4": "1",
                                    "5": "3"
                                },
                                {
                                    "0": "17",
                                    "1": "7",
                                    "2": "Wuthering Heights",
                                    "3": "280569946",
                                    "4": "1",
                                    "5": "3"
                                },
                                {
                                    "0": "18",
                                    "1": "8",
                                    "2": "The Handmaids Tale",
                                    "3": "639239663",
                                    "4": "1",
                                    "5": "5"
                                },
                                {
                                    "0": "19",
                                    "1": "8",
                                    "2": "The Testaments",
                                    "3": "826875490",
                                    "4": "1",
                                    "5": "5"
                                },
                                {
                                    "0": "20",
                                    "1": "9",
                                    "2": "The Parable of the Sower",
                                    "3": "283359358",
                                    "4": "1",
                                    "5": "5"
                                },
                                {
                                    "0": "21",
                                    "1": "10",
                                    "2": "Little Women",
                                    "3": "495409887",
                                    "4": "1",
                                    "5": "23"
                                },
                                {
                                    "0": "22",
                                    "1": "11",
                                    "2": "Still Life",
                                    "3": "455128657",
                                    "4": "1",
                                    "5": "6"
                                },
                                {
                                    "0": "23",
                                    "1": "11",
                                    "2": "A Fatal Grace",
                                    "3": "832517012",
                                    "4": "1",
                                    "5": "6"
                                },
                                {
                                    "0": "24",
                                    "1": "11",
                                    "2": "The Cruelest Month",
                                    "3": "419285319",
                                    "4": "1",
                                    "5": "6"
                                },
                                {
                                    "0": "25",
                                    "1": "11",
                                    "2": "The Murder Stone",
                                    "3": "656621400",
                                    "4": "1",
                                    "5": "6"
                                },
                                {
                                    "0": "26",
                                    "1": "11",
                                    "2": "The Brutal Telling",
                                    "3": "144255852",
                                    "4": "1",
                                    "5": "6"
                                },
                                {
                                    "0": "27",
                                    "1": "11",
                                    "2": "Bury Your Dead",
                                    "3": "208180961",
                                    "4": "1",
                                    "5": "6"
                                },
                                {
                                    "0": "28",
                                    "1": "11",
                                    "2": "A Trick of the Light",
                                    "3": "93451531",
                                    "4": "1",
                                    "5": "6"
                                },
                                {
                                    "0": "29",
                                    "1": "12",
                                    "2": "Midnights Children",
                                    "3": "881082293",
                                    "4": "1",
                                    "5": "10"
                                },
                                {
                                    "0": "30",
                                    "1": "13",
                                    "2": "Dont Let the Pigeon Drive the Bus!",
                                    "3": "18409532",
                                    "4": "1",
                                    "5": "24"
                                },
                                {
                                    "0": "31",
                                    "1": "14",
                                    "2": "Beezus and Ramona",
                                    "3": "744412630",
                                    "4": "1",
                                    "5": "24"
                                },
                                {
                                    "0": "32",
                                    "1": "15",
                                    "2": "Organic Chemistry",
                                    "3": "604328803",
                                    "4": "1",
                                    "5": "25"
                                },
                                {
                                    "0": "33",
                                    "1": "16",
                                    "2": "I Know Why the Caged Bird Sings",
                                    "3": "909947112",
                                    "4": "1",
                                    "5": "12"
                                },
                                {
                                    "0": "34",
                                    "1": "17",
                                    "2": "Beloved",
                                    "3": "46736233",
                                    "4": "1",
                                    "5": "10"
                                },
                                {
                                    "0": "35",
                                    "1": "18",
                                    "2": "Brassbones and Rainbows",
                                    "3": "330608463",
                                    "4": "1",
                                    "5": "26"
                                }
                            ]
                        },
                        "text/html": "<table><tr><th>book_id</th><th>author_id</th><th>title</th><th>isbn</th><th>available</th><th>genre_id</th></tr><tr><td>1</td><td>2</td><td>A Midsummers Night Dream</td><td>978149413</td><td>1</td><td>23</td></tr><tr><td>2</td><td>2</td><td>Romeo and Juliet</td><td>988535196</td><td>1</td><td>3</td></tr><tr><td>3</td><td>1</td><td>The Golden Compass</td><td>451664226</td><td>1</td><td>1</td></tr><tr><td>4</td><td>1</td><td>The Subtle Knife</td><td>160419390</td><td>1</td><td>1</td></tr><tr><td>5</td><td>1</td><td>The Amber Spyglass</td><td>94387895</td><td>1</td><td>1</td></tr><tr><td>6</td><td>3</td><td>The Alchemist</td><td>464069772</td><td>1</td><td>2</td></tr><tr><td>7</td><td>4</td><td>And Then There Were None</td><td>335973357</td><td>1</td><td>6</td></tr><tr><td>8</td><td>5</td><td>The Joy Luck Club</td><td>990050329</td><td>1</td><td>10</td></tr><tr><td>9</td><td>5</td><td>The Moon Lady</td><td>91720786</td><td>1</td><td>24</td></tr><tr><td>10</td><td>6</td><td>Sense and Sensibility</td><td>156879860</td><td>1</td><td>2</td></tr><tr><td>11</td><td>6</td><td>Northanger Abbey</td><td>951273178</td><td>1</td><td>3</td></tr><tr><td>12</td><td>6</td><td>Pride and Prejudice</td><td>415886839</td><td>1</td><td>3</td></tr><tr><td>13</td><td>6</td><td>Mansfield Park</td><td>188534067</td><td>1</td><td>3</td></tr><tr><td>14</td><td>6</td><td>Emma</td><td>994896202</td><td>1</td><td>3</td></tr><tr><td>15</td><td>6</td><td>Persuasion</td><td>28150097</td><td>1</td><td>3</td></tr><tr><td>16</td><td>6</td><td>Lady Susan</td><td>230962926</td><td>1</td><td>3</td></tr><tr><td>17</td><td>7</td><td>Wuthering Heights</td><td>280569946</td><td>1</td><td>3</td></tr><tr><td>18</td><td>8</td><td>The Handmaids Tale</td><td>639239663</td><td>1</td><td>5</td></tr><tr><td>19</td><td>8</td><td>The Testaments</td><td>826875490</td><td>1</td><td>5</td></tr><tr><td>20</td><td>9</td><td>The Parable of the Sower</td><td>283359358</td><td>1</td><td>5</td></tr><tr><td>21</td><td>10</td><td>Little Women</td><td>495409887</td><td>1</td><td>23</td></tr><tr><td>22</td><td>11</td><td>Still Life</td><td>455128657</td><td>1</td><td>6</td></tr><tr><td>23</td><td>11</td><td>A Fatal Grace</td><td>832517012</td><td>1</td><td>6</td></tr><tr><td>24</td><td>11</td><td>The Cruelest Month</td><td>419285319</td><td>1</td><td>6</td></tr><tr><td>25</td><td>11</td><td>The Murder Stone</td><td>656621400</td><td>1</td><td>6</td></tr><tr><td>26</td><td>11</td><td>The Brutal Telling</td><td>144255852</td><td>1</td><td>6</td></tr><tr><td>27</td><td>11</td><td>Bury Your Dead</td><td>208180961</td><td>1</td><td>6</td></tr><tr><td>28</td><td>11</td><td>A Trick of the Light</td><td>93451531</td><td>1</td><td>6</td></tr><tr><td>29</td><td>12</td><td>Midnights Children</td><td>881082293</td><td>1</td><td>10</td></tr><tr><td>30</td><td>13</td><td>Dont Let the Pigeon Drive the Bus!</td><td>18409532</td><td>1</td><td>24</td></tr><tr><td>31</td><td>14</td><td>Beezus and Ramona</td><td>744412630</td><td>1</td><td>24</td></tr><tr><td>32</td><td>15</td><td>Organic Chemistry</td><td>604328803</td><td>1</td><td>25</td></tr><tr><td>33</td><td>16</td><td>I Know Why the Caged Bird Sings</td><td>909947112</td><td>1</td><td>12</td></tr><tr><td>34</td><td>17</td><td>Beloved</td><td>46736233</td><td>1</td><td>10</td></tr><tr><td>35</td><td>18</td><td>Brassbones and Rainbows</td><td>330608463</td><td>1</td><td>26</td></tr></table>"
                    },
                    "metadata": {}
                }
            ],
            "execution_count": 4
        },
        {
            "cell_type": "markdown",
            "source": [
                "We will repeat a similar process for the **author, patron,** and **genre** tables. \n",
                "\n",
                "### **Author Table**\n",
                "\n",
                "To create the **author** table, you will use the following code:\n",
                "\n",
                "```\n",
                "CREATE TABLE [DB].[schema].author (\n",
                "    author_id INT IDENTITY(1,1), PRIMARY KEY\n",
                "    first_name VARCHAR(255),\n",
                "    last_name VARCHAR(255),\n",
                "    birth_year INT,\n",
                "    death_year INT\n",
                ");\n",
                "```"
            ],
            "metadata": {
                "azdata_cell_guid": "b63ee318-4506-48f1-adb1-267925282624"
            },
            "attachments": {}
        },
        {
            "cell_type": "code",
            "source": [
                "-- create the author table here:\n",
                "CREATE TABLE [JunkDB_KC].[Kristal].author (\n",
                "    author_id INT IDENTITY(1,1) PRIMARY KEY,\n",
                "    first_name VARCHAR(255),\n",
                "    last_name VARCHAR(255),\n",
                "    birth_year INT,\n",
                "    death_year INT\n",
                ");"
            ],
            "metadata": {
                "azdata_cell_guid": "c3903edb-35bf-4806-b554-ecbf3736b7bf",
                "language": "sql"
            },
            "outputs": [
                {
                    "output_type": "display_data",
                    "data": {
                        "text/html": "Commands completed successfully."
                    },
                    "metadata": {}
                },
                {
                    "output_type": "display_data",
                    "data": {
                        "text/html": "Total execution time: 00:00:00.058"
                    },
                    "metadata": {}
                }
            ],
            "execution_count": 7
        },
        {
            "cell_type": "markdown",
            "source": [
                "Populate the **author** table with the [author\\_data.ipynb](https://github.com/speudusa/SQL-Part-5-Studio/tree/master/Starter%20Code)."
            ],
            "metadata": {
                "azdata_cell_guid": "80c74052-6126-4ebd-90fb-4fd6720c79ac"
            },
            "attachments": {}
        },
        {
            "cell_type": "code",
            "source": [
                "-- paste the author data values in this code.\r\n",
                "INSERT INTO [JunkDB_KC].[Kristal].author(first_name, last_name, birth_year, death_year)\r\n",
                "VALUES ('Phillip', 'Pullman', 1946, null),\r\n",
                "('William', 'Shakespeare', 1564, 1616),\r\n",
                "('Paulo', 'Coelho', 1947, null),\r\n",
                "('Agatha', 'Christie', 1890-09-15, 1976-01-12),\r\n",
                "('Amy', 'Tan', 1952-02-19, null),\r\n",
                "('Jane', 'Austin', 1775-12-16, 1817-07-18),\r\n",
                "('Emily', 'Bronte', 1818-07-30, 1848-12-19),\r\n",
                "('Margaret', 'Atwood', 1939-11-18, null),\r\n",
                "('Octavia', 'Butler', 1947-06-22, 2006-02-24),\r\n",
                "('Louisa May', 'Alcott', 1832-11-29, 1888-03-06),\r\n",
                "('Louise', 'Penny', 1958-07-01, null),\r\n",
                "('Salman', 'Rushdie', 1947-08-19, null),\r\n",
                "('Mo', 'Willems', 1968-02-11, null),\r\n",
                "('Beverly', 'Cleary', 1916-04-12, null),\r\n",
                "('Peter', 'Vollhardt', 1946-03-07, null),\r\n",
                "('Maya', 'Angelou', 1928-04-04, 2014-05-28),\r\n",
                "('Toni', 'Morrison', 1931-02-18, 2019-08-05),\r\n",
                "('Shirley', 'LeFlore', 1940-03-06, 2019-05-12)"
            ],
            "metadata": {
                "azdata_cell_guid": "2f7ea794-a4a0-4b28-ba15-20e07065dc84",
                "language": "sql"
            },
            "outputs": [
                {
                    "output_type": "display_data",
                    "data": {
                        "text/html": "(18 rows affected)"
                    },
                    "metadata": {}
                },
                {
                    "output_type": "display_data",
                    "data": {
                        "text/html": "Total execution time: 00:00:00.056"
                    },
                    "metadata": {}
                }
            ],
            "execution_count": 8
        },
        {
            "cell_type": "markdown",
            "source": [
                "### **Patron Table**\n",
                "\n",
                "To create the **patron**, you will use the following code:\n",
                "\n",
                "```\n",
                "CREATE TABLE [DB].[schema].patron (\n",
                "    patron_id INT IDENTITY (1,1) PRIMARY KEY,\n",
                "    first_name VARCHAR(255),\n",
                "    last_name VARCHAR(255),\n",
                "    loan_id INT\n",
                ");\n",
                "```"
            ],
            "metadata": {
                "azdata_cell_guid": "a530aabe-e455-4369-8c06-db0e6001388c"
            },
            "attachments": {}
        },
        {
            "cell_type": "code",
            "source": [
                "-- create the patron table here:\r\n",
                "CREATE TABLE [JunkDB_KC].[Kristal].patron (\r\n",
                "    patron_id INT IDENTITY (1,1) PRIMARY KEY,\r\n",
                "    first_name VARCHAR(255),\r\n",
                "    last_name VARCHAR(255),\r\n",
                "    loan_id INT\r\n",
                ");"
            ],
            "metadata": {
                "azdata_cell_guid": "864ecf06-5b94-4bcc-b281-6ab9b65a2343",
                "language": "sql"
            },
            "outputs": [
                {
                    "output_type": "display_data",
                    "data": {
                        "text/html": "Commands completed successfully."
                    },
                    "metadata": {}
                },
                {
                    "output_type": "display_data",
                    "data": {
                        "text/html": "Total execution time: 00:00:00.045"
                    },
                    "metadata": {}
                }
            ],
            "execution_count": 9
        },
        {
            "cell_type": "markdown",
            "source": [
                "Populate the **patron** table with the [patron\\_data.ipynb](https://github.com/speudusa/SQL-Part-5-Studio/tree/master/Starter%20Code) notebook."
            ],
            "metadata": {
                "azdata_cell_guid": "48f1e14c-8d2a-458c-8c75-4223fd5344ba"
            },
            "attachments": {}
        },
        {
            "cell_type": "code",
            "source": [
                "-- insert patron data into the table here:\n",
                "INSERT INTO [JunkDB_KC].[Kristal].patron(first_name, last_name, loan_id)\n",
                "VALUES ('Jennifer', 'Slayny', NULL),\n",
                "('Susan', 'Traviss', NULL),\n",
                "('Vincent', 'Ritelli', NULL),\n",
                "('Tasia', 'Laybourne', NULL),\n",
                "('Wren', 'Gergler', NULL),\n",
                "('Tory', 'Lees', NULL),\n",
                "('Estelle', 'Di Lorio', NULL),\n",
                "('Dorian', 'Betje', NULL),\n",
                "('Frank', 'Jelk', NULL),\n",
                "('Chris', 'Endon', NULL),\n",
                "('Gillie', 'Fritz', NULL),\n",
                "('Leisha', 'Defty', NULL),\n",
                "('Erika', 'Bompass', NULL),\n",
                "('Gabe', 'Moxstead', NULL),\n",
                "('Blake', 'Teresse', NULL),\n",
                "('Joshua', 'Timmouth', NULL),\n",
                "('Tasha', 'Timmouth', NULL),\n",
                "('Neil', 'Davie', NULL),\n",
                "('Emmeline', 'Pitherick', NULL),\n",
                "('Josiah', 'Staner', NULL),\n",
                "('James', 'Greetham', NULL),\n",
                "('Isaac', 'Barstowk', NULL),\n",
                "('Dean', 'Nelane', NULL),\n",
                "('Carolina', 'Cranmere', NULL),\n",
                "('Champ', 'Lardiner', NULL),\n",
                "('Abbie', 'Quaif', NULL),\n",
                "('Camile', 'Milbourne', NULL),\n",
                "('Quentin', 'Crose', NULL),\n",
                "('Silvano', 'Horlick', NULL),\n",
                "('Phyllis', 'Cicchillo', NULL),\n",
                "('Jerrie', 'Brownhall', NULL),\n",
                "('Ludovika', 'Leist', NULL),\n",
                "('Tara', 'Knatt', NULL),\n",
                "('Kelsie', 'Parkson', NULL),\n",
                "('Jodi', 'Leopard', NULL),\n",
                "('Rosanna', 'Cultcheth', NULL),\n",
                "('Remy', 'Fairpool', NULL),\n",
                "('Megan', 'Blyth', NULL),\n",
                "('Rikki', 'McLernon', NULL),\n",
                "('Clare', 'Haacker', NULL),\n",
                "('Vincent', 'Chettle', NULL),\n",
                "('Sybil', 'Costanza', NULL),\n",
                "('Jonas', 'Sinclare', NULL),\n",
                "('Claire', 'Bendel', NULL),\n",
                "('Kathleen', 'Welband', NULL),\n",
                "('Kylie', 'Crannage', NULL),\n",
                "('Evelyn', 'Tarajo', NULL),\n",
                "('Oliver', 'Caulson', NULL);\n",
                ""
            ],
            "metadata": {
                "azdata_cell_guid": "8aa02813-50d7-4c02-9c0f-cf5da207a0b1",
                "tags": [],
                "language": "sql"
            },
            "outputs": [
                {
                    "output_type": "display_data",
                    "data": {
                        "text/html": "(48 rows affected)"
                    },
                    "metadata": {}
                },
                {
                    "output_type": "display_data",
                    "data": {
                        "text/html": "Total execution time: 00:00:00.052"
                    },
                    "metadata": {}
                }
            ],
            "execution_count": 10
        },
        {
            "cell_type": "code",
            "source": [
                "SELECT *\r\n",
                "FROM Kristal.patron"
            ],
            "metadata": {
                "azdata_cell_guid": "467e4b58-6d43-4d84-b738-83053feabfe2",
                "language": "sql"
            },
            "outputs": [
                {
                    "output_type": "display_data",
                    "data": {
                        "text/html": "(48 rows affected)"
                    },
                    "metadata": {}
                },
                {
                    "output_type": "display_data",
                    "data": {
                        "text/html": "Total execution time: 00:00:00.433"
                    },
                    "metadata": {}
                },
                {
                    "output_type": "execute_result",
                    "execution_count": 72,
                    "data": {
                        "application/vnd.dataresource+json": {
                            "schema": {
                                "fields": [
                                    {
                                        "name": "patron_id"
                                    },
                                    {
                                        "name": "first_name"
                                    },
                                    {
                                        "name": "last_name"
                                    },
                                    {
                                        "name": "loan_id"
                                    }
                                ]
                            },
                            "data": [
                                {
                                    "0": "1",
                                    "1": "Jennifer",
                                    "2": "Slayny",
                                    "3": "NULL"
                                },
                                {
                                    "0": "2",
                                    "1": "Susan",
                                    "2": "Traviss",
                                    "3": "NULL"
                                },
                                {
                                    "0": "3",
                                    "1": "Vincent",
                                    "2": "Ritelli",
                                    "3": "NULL"
                                },
                                {
                                    "0": "4",
                                    "1": "Tasia",
                                    "2": "Laybourne",
                                    "3": "NULL"
                                },
                                {
                                    "0": "5",
                                    "1": "Wren",
                                    "2": "Gergler",
                                    "3": "NULL"
                                },
                                {
                                    "0": "6",
                                    "1": "Tory",
                                    "2": "Lees",
                                    "3": "NULL"
                                },
                                {
                                    "0": "7",
                                    "1": "Estelle",
                                    "2": "Di Lorio",
                                    "3": "NULL"
                                },
                                {
                                    "0": "8",
                                    "1": "Dorian",
                                    "2": "Betje",
                                    "3": "NULL"
                                },
                                {
                                    "0": "9",
                                    "1": "Frank",
                                    "2": "Jelk",
                                    "3": "NULL"
                                },
                                {
                                    "0": "10",
                                    "1": "Chris",
                                    "2": "Endon",
                                    "3": "NULL"
                                },
                                {
                                    "0": "11",
                                    "1": "Gillie",
                                    "2": "Fritz",
                                    "3": "NULL"
                                },
                                {
                                    "0": "12",
                                    "1": "Leisha",
                                    "2": "Defty",
                                    "3": "NULL"
                                },
                                {
                                    "0": "13",
                                    "1": "Erika",
                                    "2": "Bompass",
                                    "3": "NULL"
                                },
                                {
                                    "0": "14",
                                    "1": "Gabe",
                                    "2": "Moxstead",
                                    "3": "NULL"
                                },
                                {
                                    "0": "15",
                                    "1": "Blake",
                                    "2": "Teresse",
                                    "3": "NULL"
                                },
                                {
                                    "0": "16",
                                    "1": "Joshua",
                                    "2": "Timmouth",
                                    "3": "NULL"
                                },
                                {
                                    "0": "17",
                                    "1": "Tasha",
                                    "2": "Timmouth",
                                    "3": "NULL"
                                },
                                {
                                    "0": "18",
                                    "1": "Neil",
                                    "2": "Davie",
                                    "3": "NULL"
                                },
                                {
                                    "0": "19",
                                    "1": "Emmeline",
                                    "2": "Pitherick",
                                    "3": "NULL"
                                },
                                {
                                    "0": "20",
                                    "1": "Josiah",
                                    "2": "Staner",
                                    "3": "NULL"
                                },
                                {
                                    "0": "21",
                                    "1": "James",
                                    "2": "Greetham",
                                    "3": "NULL"
                                },
                                {
                                    "0": "22",
                                    "1": "Isaac",
                                    "2": "Barstowk",
                                    "3": "NULL"
                                },
                                {
                                    "0": "23",
                                    "1": "Dean",
                                    "2": "Nelane",
                                    "3": "NULL"
                                },
                                {
                                    "0": "24",
                                    "1": "Carolina",
                                    "2": "Cranmere",
                                    "3": "NULL"
                                },
                                {
                                    "0": "25",
                                    "1": "Champ",
                                    "2": "Lardiner",
                                    "3": "NULL"
                                },
                                {
                                    "0": "26",
                                    "1": "Abbie",
                                    "2": "Quaif",
                                    "3": "NULL"
                                },
                                {
                                    "0": "27",
                                    "1": "Camile",
                                    "2": "Milbourne",
                                    "3": "NULL"
                                },
                                {
                                    "0": "28",
                                    "1": "Quentin",
                                    "2": "Crose",
                                    "3": "NULL"
                                },
                                {
                                    "0": "29",
                                    "1": "Silvano",
                                    "2": "Horlick",
                                    "3": "NULL"
                                },
                                {
                                    "0": "30",
                                    "1": "Phyllis",
                                    "2": "Cicchillo",
                                    "3": "NULL"
                                },
                                {
                                    "0": "31",
                                    "1": "Jerrie",
                                    "2": "Brownhall",
                                    "3": "NULL"
                                },
                                {
                                    "0": "32",
                                    "1": "Ludovika",
                                    "2": "Leist",
                                    "3": "NULL"
                                },
                                {
                                    "0": "33",
                                    "1": "Tara",
                                    "2": "Knatt",
                                    "3": "NULL"
                                },
                                {
                                    "0": "34",
                                    "1": "Kelsie",
                                    "2": "Parkson",
                                    "3": "NULL"
                                },
                                {
                                    "0": "35",
                                    "1": "Jodi",
                                    "2": "Leopard",
                                    "3": "NULL"
                                },
                                {
                                    "0": "36",
                                    "1": "Rosanna",
                                    "2": "Cultcheth",
                                    "3": "NULL"
                                },
                                {
                                    "0": "37",
                                    "1": "Remy",
                                    "2": "Fairpool",
                                    "3": "NULL"
                                },
                                {
                                    "0": "38",
                                    "1": "Megan",
                                    "2": "Blyth",
                                    "3": "NULL"
                                },
                                {
                                    "0": "39",
                                    "1": "Rikki",
                                    "2": "McLernon",
                                    "3": "NULL"
                                },
                                {
                                    "0": "40",
                                    "1": "Clare",
                                    "2": "Haacker",
                                    "3": "NULL"
                                },
                                {
                                    "0": "41",
                                    "1": "Vincent",
                                    "2": "Chettle",
                                    "3": "NULL"
                                },
                                {
                                    "0": "42",
                                    "1": "Sybil",
                                    "2": "Costanza",
                                    "3": "NULL"
                                },
                                {
                                    "0": "43",
                                    "1": "Jonas",
                                    "2": "Sinclare",
                                    "3": "NULL"
                                },
                                {
                                    "0": "44",
                                    "1": "Claire",
                                    "2": "Bendel",
                                    "3": "NULL"
                                },
                                {
                                    "0": "45",
                                    "1": "Kathleen",
                                    "2": "Welband",
                                    "3": "NULL"
                                },
                                {
                                    "0": "46",
                                    "1": "Kylie",
                                    "2": "Crannage",
                                    "3": "NULL"
                                },
                                {
                                    "0": "47",
                                    "1": "Evelyn",
                                    "2": "Tarajo",
                                    "3": "NULL"
                                },
                                {
                                    "0": "48",
                                    "1": "Oliver",
                                    "2": "Caulson",
                                    "3": "NULL"
                                }
                            ]
                        },
                        "text/html": "<table><tr><th>patron_id</th><th>first_name</th><th>last_name</th><th>loan_id</th></tr><tr><td>1</td><td>Jennifer</td><td>Slayny</td><td>NULL</td></tr><tr><td>2</td><td>Susan</td><td>Traviss</td><td>NULL</td></tr><tr><td>3</td><td>Vincent</td><td>Ritelli</td><td>NULL</td></tr><tr><td>4</td><td>Tasia</td><td>Laybourne</td><td>NULL</td></tr><tr><td>5</td><td>Wren</td><td>Gergler</td><td>NULL</td></tr><tr><td>6</td><td>Tory</td><td>Lees</td><td>NULL</td></tr><tr><td>7</td><td>Estelle</td><td>Di Lorio</td><td>NULL</td></tr><tr><td>8</td><td>Dorian</td><td>Betje</td><td>NULL</td></tr><tr><td>9</td><td>Frank</td><td>Jelk</td><td>NULL</td></tr><tr><td>10</td><td>Chris</td><td>Endon</td><td>NULL</td></tr><tr><td>11</td><td>Gillie</td><td>Fritz</td><td>NULL</td></tr><tr><td>12</td><td>Leisha</td><td>Defty</td><td>NULL</td></tr><tr><td>13</td><td>Erika</td><td>Bompass</td><td>NULL</td></tr><tr><td>14</td><td>Gabe</td><td>Moxstead</td><td>NULL</td></tr><tr><td>15</td><td>Blake</td><td>Teresse</td><td>NULL</td></tr><tr><td>16</td><td>Joshua</td><td>Timmouth</td><td>NULL</td></tr><tr><td>17</td><td>Tasha</td><td>Timmouth</td><td>NULL</td></tr><tr><td>18</td><td>Neil</td><td>Davie</td><td>NULL</td></tr><tr><td>19</td><td>Emmeline</td><td>Pitherick</td><td>NULL</td></tr><tr><td>20</td><td>Josiah</td><td>Staner</td><td>NULL</td></tr><tr><td>21</td><td>James</td><td>Greetham</td><td>NULL</td></tr><tr><td>22</td><td>Isaac</td><td>Barstowk</td><td>NULL</td></tr><tr><td>23</td><td>Dean</td><td>Nelane</td><td>NULL</td></tr><tr><td>24</td><td>Carolina</td><td>Cranmere</td><td>NULL</td></tr><tr><td>25</td><td>Champ</td><td>Lardiner</td><td>NULL</td></tr><tr><td>26</td><td>Abbie</td><td>Quaif</td><td>NULL</td></tr><tr><td>27</td><td>Camile</td><td>Milbourne</td><td>NULL</td></tr><tr><td>28</td><td>Quentin</td><td>Crose</td><td>NULL</td></tr><tr><td>29</td><td>Silvano</td><td>Horlick</td><td>NULL</td></tr><tr><td>30</td><td>Phyllis</td><td>Cicchillo</td><td>NULL</td></tr><tr><td>31</td><td>Jerrie</td><td>Brownhall</td><td>NULL</td></tr><tr><td>32</td><td>Ludovika</td><td>Leist</td><td>NULL</td></tr><tr><td>33</td><td>Tara</td><td>Knatt</td><td>NULL</td></tr><tr><td>34</td><td>Kelsie</td><td>Parkson</td><td>NULL</td></tr><tr><td>35</td><td>Jodi</td><td>Leopard</td><td>NULL</td></tr><tr><td>36</td><td>Rosanna</td><td>Cultcheth</td><td>NULL</td></tr><tr><td>37</td><td>Remy</td><td>Fairpool</td><td>NULL</td></tr><tr><td>38</td><td>Megan</td><td>Blyth</td><td>NULL</td></tr><tr><td>39</td><td>Rikki</td><td>McLernon</td><td>NULL</td></tr><tr><td>40</td><td>Clare</td><td>Haacker</td><td>NULL</td></tr><tr><td>41</td><td>Vincent</td><td>Chettle</td><td>NULL</td></tr><tr><td>42</td><td>Sybil</td><td>Costanza</td><td>NULL</td></tr><tr><td>43</td><td>Jonas</td><td>Sinclare</td><td>NULL</td></tr><tr><td>44</td><td>Claire</td><td>Bendel</td><td>NULL</td></tr><tr><td>45</td><td>Kathleen</td><td>Welband</td><td>NULL</td></tr><tr><td>46</td><td>Kylie</td><td>Crannage</td><td>NULL</td></tr><tr><td>47</td><td>Evelyn</td><td>Tarajo</td><td>NULL</td></tr><tr><td>48</td><td>Oliver</td><td>Caulson</td><td>NULL</td></tr></table>"
                    },
                    "metadata": {}
                }
            ],
            "execution_count": 72
        },
        {
            "cell_type": "markdown",
            "source": [
                "### **Genre Table**\n",
                "\n",
                "To create the **genre** table, use the following code:\n",
                "\n",
                "```\n",
                "CREATE TABLE [DB].[schema].genre (\n",
                "    genre_id INT PRIMARY KEY,\n",
                "    genres VARCHAR(100)\n",
                ");\n",
                "```"
            ],
            "metadata": {
                "azdata_cell_guid": "d7e74ee6-1ca3-4e79-beb5-04543b03b7cf"
            },
            "attachments": {}
        },
        {
            "cell_type": "code",
            "source": [
                "-- create genre table here:\r\n",
                "CREATE TABLE [JunkDB_KC].[Kristal].genre (\r\n",
                "    genre_id INT PRIMARY KEY,\r\n",
                "    genres VARCHAR(100)\r\n",
                ");"
            ],
            "metadata": {
                "azdata_cell_guid": "90f553ee-b7e8-4509-8ac7-bf81c0b42158",
                "language": "sql"
            },
            "outputs": [
                {
                    "output_type": "display_data",
                    "data": {
                        "text/html": "Commands completed successfully."
                    },
                    "metadata": {}
                },
                {
                    "output_type": "display_data",
                    "data": {
                        "text/html": "Total execution time: 00:00:00.054"
                    },
                    "metadata": {}
                }
            ],
            "execution_count": 11
        },
        {
            "cell_type": "markdown",
            "source": [
                "Populate the **genre** table with the [genre\\_data.ipybn](https://github.com/speudusa/SQL-Part-5-Studio/tree/master/Starter%20Code) notebook."
            ],
            "metadata": {
                "azdata_cell_guid": "ed09922e-5d4f-437a-97c6-9bb052839503"
            },
            "attachments": {}
        },
        {
            "cell_type": "code",
            "source": [
                "-- insert the genre data into the table here:\r\n",
                "INSERT INTO [JunkDB_KC].[Kristal].genre(genre_id, genres)\r\n",
                "VALUES (1, 'Fantasy'),\r\n",
                "(2, 'Adventure'),\r\n",
                "(3, 'Romance'),\r\n",
                "(4, 'Contemporary'),\r\n",
                "(5, 'Dystopian'),\r\n",
                "(6, 'Mystery'),\r\n",
                "(7, 'Horror'),\r\n",
                "(8, 'Thriller'),\r\n",
                "(9, 'Paranormal'),\r\n",
                "(10, 'Historical Fiction'),\r\n",
                "(11, 'Science Fiction'),\r\n",
                "(12, 'Memoir'),\r\n",
                "(13, 'Cooking'),\r\n",
                "(14, 'Art'),\r\n",
                "(15, 'Self-Help'),\r\n",
                "(16, 'Development'),\r\n",
                "(17, 'Motivational'),\r\n",
                "(18, 'Health'),\r\n",
                "(19, 'History'),\r\n",
                "(20, 'Travel'),\r\n",
                "(21, 'Guide'),\r\n",
                "(22, 'Families and Relationships'),\r\n",
                "(23, 'Humor'),\r\n",
                "(24, 'Childrens'),\r\n",
                "(25, 'Reference'),\r\n",
                "(26, 'Poetry');"
            ],
            "metadata": {
                "azdata_cell_guid": "d21f25bc-3bc0-4c48-932f-728fdc2c0f1b",
                "language": "sql"
            },
            "outputs": [
                {
                    "output_type": "display_data",
                    "data": {
                        "text/html": "(26 rows affected)"
                    },
                    "metadata": {}
                },
                {
                    "output_type": "display_data",
                    "data": {
                        "text/html": "Total execution time: 00:00:00.047"
                    },
                    "metadata": {}
                }
            ],
            "execution_count": 12
        },
        {
            "cell_type": "markdown",
            "source": [
                "### **Loan Table**\n",
                "\n",
                "The **loan** table will be created differently and will stay empty.  We will use our other tables to populate the loan table using queries shortly.  \n",
                "\n",
                "Use the following code to create the **loan** table:\n",
                "\n",
                "```\n",
                "CREATE TABLE [DB].[schema].loan (\n",
                "    loan_id INT IDENTITY(1,1) PRIMARY KEY,\n",
                "    patron_id INT,\n",
                "    date_out DATE,\n",
                "    date_in DATE,\n",
                "    book_id INT\n",
                "    CONSTRAINT book_id FOREIGN KEY (book_id) REFERENCES [DB].[schema].book (book_id)\n",
                "        ON UPDATE SET NULL\n",
                "        ON DELETE SET NULL\n",
                ");\n",
                "```\n",
                "\n",
                "_Notes about the syntax:_\n",
                "\n",
                "> We are adding a [foreign key](https://www.w3schools.com/sql/sql_foreignkey.asp) to this table to reference a different table's primary key.  In this studio, we are going to link the **loan** table to the **book** table using keys.  The **loan** table will reference and add book id numbers based on the **book** table's book\\_id.  We are also providing [constraints](https://www.w3schools.com/sql/sql_constraints.asp) to be very specific about what type of data is allowed in this column."
            ],
            "metadata": {
                "azdata_cell_guid": "111aa17f-6295-4780-b56a-c580951ba446"
            },
            "attachments": {}
        },
        {
            "cell_type": "code",
            "source": [
                "-- Code the loan table.  \n",
                "-- Note that you will need to update the first and seventh lines with your database and schema info.\n",
                "CREATE TABLE [JunkDB_KC].[Kristal].loan (\n",
                "    loan_id INT IDENTITY(1,1) PRIMARY KEY,\n",
                "    patron_id INT,\n",
                "    date_out DATE,\n",
                "    date_in DATE,\n",
                "    book_id INT\n",
                "    CONSTRAINT book_id FOREIGN KEY (book_id) REFERENCES [JunkDB_KC].[Kristal].book (book_id)\n",
                "        ON UPDATE SET NULL\n",
                "        ON DELETE SET NULL\n",
                ");\n",
                ""
            ],
            "metadata": {
                "azdata_cell_guid": "0c02072d-832a-44bb-aa28-c8e273cc930a",
                "language": "sql"
            },
            "outputs": [
                {
                    "output_type": "display_data",
                    "data": {
                        "text/html": "Commands completed successfully."
                    },
                    "metadata": {}
                },
                {
                    "output_type": "display_data",
                    "data": {
                        "text/html": "Total execution time: 00:00:00.048"
                    },
                    "metadata": {}
                }
            ],
            "execution_count": 13
        },
        {
            "cell_type": "markdown",
            "source": [
                ""
            ],
            "metadata": {
                "azdata_cell_guid": "7b8490ca-1d4f-4beb-837d-7ef1ee681865"
            },
            "attachments": {}
        },
        {
            "cell_type": "markdown",
            "source": [
                "## **Part B: Warm-Up Queries**\n",
                "\n",
                "Write the following queries to get warmed up and make sure your tables have populated appropriately. \n",
                "\n",
                "1. Return the mystery book titles and their ISBNs.  \n",
                "      \n",
                "    \n",
                "2. Return all of the titles and the author's first and last names for books written by authors who are currently living."
            ],
            "metadata": {
                "azdata_cell_guid": "c52719ab-94f3-4eff-97fa-1f928892ef3b"
            },
            "attachments": {}
        },
        {
            "cell_type": "code",
            "source": [
                "--Code your warm ups here:\r\n",
                "SELECT title, isbn, genre_id\r\n",
                "FROM Kristal.book\r\n",
                "WHERE genre_id = (\r\n",
                "    SELECT genre_id\r\n",
                "    FROM Kristal.genre\r\n",
                "    WHERE genres = 'Mystery'\r\n",
                "    );\r\n",
                ""
            ],
            "metadata": {
                "azdata_cell_guid": "95590c74-e772-4e0e-b35d-346409d9d4c0",
                "language": "sql"
            },
            "outputs": [
                {
                    "output_type": "display_data",
                    "data": {
                        "text/html": "(8 rows affected)"
                    },
                    "metadata": {}
                },
                {
                    "output_type": "display_data",
                    "data": {
                        "text/html": "Total execution time: 00:00:00.049"
                    },
                    "metadata": {}
                },
                {
                    "output_type": "execute_result",
                    "execution_count": 37,
                    "data": {
                        "application/vnd.dataresource+json": {
                            "schema": {
                                "fields": [
                                    {
                                        "name": "title"
                                    },
                                    {
                                        "name": "isbn"
                                    },
                                    {
                                        "name": "genre_id"
                                    }
                                ]
                            },
                            "data": [
                                {
                                    "0": "And Then There Were None",
                                    "1": "335973357",
                                    "2": "6"
                                },
                                {
                                    "0": "Still Life",
                                    "1": "455128657",
                                    "2": "6"
                                },
                                {
                                    "0": "A Fatal Grace",
                                    "1": "832517012",
                                    "2": "6"
                                },
                                {
                                    "0": "The Cruelest Month",
                                    "1": "419285319",
                                    "2": "6"
                                },
                                {
                                    "0": "The Murder Stone",
                                    "1": "656621400",
                                    "2": "6"
                                },
                                {
                                    "0": "The Brutal Telling",
                                    "1": "144255852",
                                    "2": "6"
                                },
                                {
                                    "0": "Bury Your Dead",
                                    "1": "208180961",
                                    "2": "6"
                                },
                                {
                                    "0": "A Trick of the Light",
                                    "1": "93451531",
                                    "2": "6"
                                }
                            ]
                        },
                        "text/html": "<table><tr><th>title</th><th>isbn</th><th>genre_id</th></tr><tr><td>And Then There Were None</td><td>335973357</td><td>6</td></tr><tr><td>Still Life</td><td>455128657</td><td>6</td></tr><tr><td>A Fatal Grace</td><td>832517012</td><td>6</td></tr><tr><td>The Cruelest Month</td><td>419285319</td><td>6</td></tr><tr><td>The Murder Stone</td><td>656621400</td><td>6</td></tr><tr><td>The Brutal Telling</td><td>144255852</td><td>6</td></tr><tr><td>Bury Your Dead</td><td>208180961</td><td>6</td></tr><tr><td>A Trick of the Light</td><td>93451531</td><td>6</td></tr></table>"
                    },
                    "metadata": {}
                }
            ],
            "execution_count": 37
        },
        {
            "cell_type": "code",
            "source": [
                "SELECT a.author_id, a.first_name, a.last_name, a.death_year, b.title\r\n",
                "FROM Kristal.author as a \r\n",
                "JOIN Kristal.book as b\r\n",
                "ON a.author_id = b.author_id\r\n",
                "WHERE death_year IS NULL"
            ],
            "metadata": {
                "azdata_cell_guid": "2cde19c9-f3b3-4e31-9e65-b6a005993e5c",
                "language": "sql",
                "tags": []
            },
            "outputs": [
                {
                    "output_type": "display_data",
                    "data": {
                        "text/html": "(19 rows affected)"
                    },
                    "metadata": {}
                },
                {
                    "output_type": "display_data",
                    "data": {
                        "text/html": "Total execution time: 00:00:00.100"
                    },
                    "metadata": {}
                },
                {
                    "output_type": "execute_result",
                    "execution_count": 67,
                    "data": {
                        "application/vnd.dataresource+json": {
                            "schema": {
                                "fields": [
                                    {
                                        "name": "author_id"
                                    },
                                    {
                                        "name": "first_name"
                                    },
                                    {
                                        "name": "last_name"
                                    },
                                    {
                                        "name": "death_year"
                                    },
                                    {
                                        "name": "title"
                                    }
                                ]
                            },
                            "data": [
                                {
                                    "0": "1",
                                    "1": "Phillip",
                                    "2": "Pullman",
                                    "3": "NULL",
                                    "4": "The Golden Compass"
                                },
                                {
                                    "0": "1",
                                    "1": "Phillip",
                                    "2": "Pullman",
                                    "3": "NULL",
                                    "4": "The Subtle Knife"
                                },
                                {
                                    "0": "1",
                                    "1": "Phillip",
                                    "2": "Pullman",
                                    "3": "NULL",
                                    "4": "The Amber Spyglass"
                                },
                                {
                                    "0": "3",
                                    "1": "Paulo",
                                    "2": "Coelho",
                                    "3": "NULL",
                                    "4": "The Alchemist"
                                },
                                {
                                    "0": "5",
                                    "1": "Amy",
                                    "2": "Tan",
                                    "3": "NULL",
                                    "4": "The Joy Luck Club"
                                },
                                {
                                    "0": "5",
                                    "1": "Amy",
                                    "2": "Tan",
                                    "3": "NULL",
                                    "4": "The Moon Lady"
                                },
                                {
                                    "0": "8",
                                    "1": "Margaret",
                                    "2": "Atwood",
                                    "3": "NULL",
                                    "4": "The Handmaids Tale"
                                },
                                {
                                    "0": "8",
                                    "1": "Margaret",
                                    "2": "Atwood",
                                    "3": "NULL",
                                    "4": "The Testaments"
                                },
                                {
                                    "0": "11",
                                    "1": "Louise",
                                    "2": "Penny",
                                    "3": "NULL",
                                    "4": "Still Life"
                                },
                                {
                                    "0": "11",
                                    "1": "Louise",
                                    "2": "Penny",
                                    "3": "NULL",
                                    "4": "A Fatal Grace"
                                },
                                {
                                    "0": "11",
                                    "1": "Louise",
                                    "2": "Penny",
                                    "3": "NULL",
                                    "4": "The Cruelest Month"
                                },
                                {
                                    "0": "11",
                                    "1": "Louise",
                                    "2": "Penny",
                                    "3": "NULL",
                                    "4": "The Murder Stone"
                                },
                                {
                                    "0": "11",
                                    "1": "Louise",
                                    "2": "Penny",
                                    "3": "NULL",
                                    "4": "The Brutal Telling"
                                },
                                {
                                    "0": "11",
                                    "1": "Louise",
                                    "2": "Penny",
                                    "3": "NULL",
                                    "4": "Bury Your Dead"
                                },
                                {
                                    "0": "11",
                                    "1": "Louise",
                                    "2": "Penny",
                                    "3": "NULL",
                                    "4": "A Trick of the Light"
                                },
                                {
                                    "0": "12",
                                    "1": "Salman",
                                    "2": "Rushdie",
                                    "3": "NULL",
                                    "4": "Midnights Children"
                                },
                                {
                                    "0": "13",
                                    "1": "Mo",
                                    "2": "Willems",
                                    "3": "NULL",
                                    "4": "Dont Let the Pigeon Drive the Bus!"
                                },
                                {
                                    "0": "14",
                                    "1": "Beverly",
                                    "2": "Cleary",
                                    "3": "NULL",
                                    "4": "Beezus and Ramona"
                                },
                                {
                                    "0": "15",
                                    "1": "Peter",
                                    "2": "Vollhardt",
                                    "3": "NULL",
                                    "4": "Organic Chemistry"
                                }
                            ]
                        },
                        "text/html": "<table><tr><th>author_id</th><th>first_name</th><th>last_name</th><th>death_year</th><th>title</th></tr><tr><td>1</td><td>Phillip</td><td>Pullman</td><td>NULL</td><td>The Golden Compass</td></tr><tr><td>1</td><td>Phillip</td><td>Pullman</td><td>NULL</td><td>The Subtle Knife</td></tr><tr><td>1</td><td>Phillip</td><td>Pullman</td><td>NULL</td><td>The Amber Spyglass</td></tr><tr><td>3</td><td>Paulo</td><td>Coelho</td><td>NULL</td><td>The Alchemist</td></tr><tr><td>5</td><td>Amy</td><td>Tan</td><td>NULL</td><td>The Joy Luck Club</td></tr><tr><td>5</td><td>Amy</td><td>Tan</td><td>NULL</td><td>The Moon Lady</td></tr><tr><td>8</td><td>Margaret</td><td>Atwood</td><td>NULL</td><td>The Handmaids Tale</td></tr><tr><td>8</td><td>Margaret</td><td>Atwood</td><td>NULL</td><td>The Testaments</td></tr><tr><td>11</td><td>Louise</td><td>Penny</td><td>NULL</td><td>Still Life</td></tr><tr><td>11</td><td>Louise</td><td>Penny</td><td>NULL</td><td>A Fatal Grace</td></tr><tr><td>11</td><td>Louise</td><td>Penny</td><td>NULL</td><td>The Cruelest Month</td></tr><tr><td>11</td><td>Louise</td><td>Penny</td><td>NULL</td><td>The Murder Stone</td></tr><tr><td>11</td><td>Louise</td><td>Penny</td><td>NULL</td><td>The Brutal Telling</td></tr><tr><td>11</td><td>Louise</td><td>Penny</td><td>NULL</td><td>Bury Your Dead</td></tr><tr><td>11</td><td>Louise</td><td>Penny</td><td>NULL</td><td>A Trick of the Light</td></tr><tr><td>12</td><td>Salman</td><td>Rushdie</td><td>NULL</td><td>Midnights Children</td></tr><tr><td>13</td><td>Mo</td><td>Willems</td><td>NULL</td><td>Dont Let the Pigeon Drive the Bus!</td></tr><tr><td>14</td><td>Beverly</td><td>Cleary</td><td>NULL</td><td>Beezus and Ramona</td></tr><tr><td>15</td><td>Peter</td><td>Vollhardt</td><td>NULL</td><td>Organic Chemistry</td></tr></table>"
                    },
                    "metadata": {}
                }
            ],
            "execution_count": 67
        },
        {
            "cell_type": "markdown",
            "source": [
                "## **Part C: Loan Out a Book**\n",
                "\n",
                "The library would like you to create a query that will update the database when a book is loaned out.  \n",
                "\n",
                "This query needs to perform the following functions:\n",
                "\n",
                "1. Change **available** to **0** (false) for the appropriate book.\n",
                "    \n",
                "2. Add a new row to the **loan** table with today's date as the **date\\_out** and the ids in the row matching the appropriate **patron\\_id** and **book\\_id**.\n",
                "    \n",
                "3. Update the appropriate **patron** with the **loan\\_id** for the new row created in the **loan** table.\n",
                "    \n",
                "\n",
                "You can use any patron and book that strikes your fancy to create and test out this query.'\n",
                "\n",
                "> _Note:  Every time you test this, you will add an additional row to the output, creating a new loan id each time.  If you do not update the patron id, then a patron will have multiple loan ids.  This is not an issue for Part C;_ _however, this may cause issues when you work on Part F._"
            ],
            "metadata": {
                "azdata_cell_guid": "89fcab58-413b-4a19-99f2-6c3a7f880f9f"
            },
            "attachments": {}
        },
        {
            "cell_type": "code",
            "source": [
                "DELETE Kristal.loan"
            ],
            "metadata": {
                "azdata_cell_guid": "05b2fbb0-04ff-4fb5-bd31-1b71bf02b001",
                "language": "sql"
            },
            "outputs": [
                {
                    "output_type": "display_data",
                    "data": {
                        "text/html": "(0 rows affected)"
                    },
                    "metadata": {}
                },
                {
                    "output_type": "display_data",
                    "data": {
                        "text/html": "Total execution time: 00:00:00.041"
                    },
                    "metadata": {}
                }
            ],
            "execution_count": 33
        },
        {
            "cell_type": "code",
            "source": [
                "-- Create your query that will Loan Out a Book:\r\n",
                "UPDATE Kristal.book\r\n",
                "SET available = 0 \r\n",
                "WHERE title = 'Emma'\r\n",
                "\r\n",
                "INSERT INTO Kristal.loan (patron_id, date_out, book_id)\r\n",
                "VALUES (40, '2023-04-12', 14)\r\n",
                "\r\n",
                "UPDATE Kristal.patron\r\n",
                "SET patron.loan_id = (\r\n",
                "    SELECT loan.loan_id\r\n",
                "    FROM Kristal.loan\r\n",
                "    WHERE Kristal.loan.patron_id = Kristal.patron.patron_id\r\n",
                ");"
            ],
            "metadata": {
                "azdata_cell_guid": "372104fd-303e-4be3-8b85-d4e4902fe9d9",
                "language": "sql"
            },
            "outputs": [
                {
                    "output_type": "display_data",
                    "data": {
                        "text/html": "(1 row affected)"
                    },
                    "metadata": {}
                },
                {
                    "output_type": "display_data",
                    "data": {
                        "text/html": "(1 row affected)"
                    },
                    "metadata": {}
                },
                {
                    "output_type": "display_data",
                    "data": {
                        "text/html": "(48 rows affected)"
                    },
                    "metadata": {}
                },
                {
                    "output_type": "display_data",
                    "data": {
                        "text/html": "Total execution time: 00:00:00.048"
                    },
                    "metadata": {}
                }
            ],
            "execution_count": 29
        },
        {
            "cell_type": "markdown",
            "source": [
                "## **Part D: Check a Book Back In**\n",
                "\n",
                "Work with the same patron and book as you create your query to check a book back into the library.\n",
                "\n",
                "The check a book back in, your query need to do the following:\n",
                "\n",
                "1. Change **available** to **1** (true) for the appropriate book.\n",
                "    \n",
                "2. Update the appropriate row in the **loan** table with today's date as the **date\\_in**.\n",
                "    \n",
                "3. Update the appropriate **patron** changing **loan\\_id** back to **NULL**.\n",
                "    \n",
                "\n",
                "Once you have created these queries, loan out 5 new books to 5 different patrons."
            ],
            "metadata": {
                "azdata_cell_guid": "21923b69-f92c-4f86-af0a-230df894c696"
            },
            "attachments": {}
        },
        {
            "cell_type": "code",
            "source": [
                "-- Create your Check a Book Back In query:\n",
                "UPDATE Kristal.book\n",
                "SET available = 1 \n",
                "WHERE title = 'Emma'\n",
                "\n",
                "INSERT INTO Kristal.loan (patron_id, date_out, date_in, book_id)\n",
                "VALUES (40, '2023-04-12', '2023-04-12', 14)\n",
                "\n",
                "UPDATE Kristal.patron\n",
                "SET loan_id = NULL\n",
                "WHERE first_name = 'Clare'"
            ],
            "metadata": {
                "azdata_cell_guid": "80a81994-48b8-4b9e-a09c-5124e3fc85b2",
                "language": "sql"
            },
            "outputs": [
                {
                    "output_type": "display_data",
                    "data": {
                        "text/html": "(1 row affected)"
                    },
                    "metadata": {}
                },
                {
                    "output_type": "display_data",
                    "data": {
                        "text/html": "(1 row affected)"
                    },
                    "metadata": {}
                },
                {
                    "output_type": "display_data",
                    "data": {
                        "text/html": "(1 row affected)"
                    },
                    "metadata": {}
                },
                {
                    "output_type": "display_data",
                    "data": {
                        "text/html": "Total execution time: 00:00:00.051"
                    },
                    "metadata": {}
                }
            ],
            "execution_count": 30
        },
        {
            "cell_type": "code",
            "source": [
                "UPDATE Kristal.book\r\n",
                "SET available = 0 \r\n",
                "WHERE book_id = 20\r\n",
                "\r\n",
                "INSERT INTO Kristal.loan (patron_id, date_out, book_id)\r\n",
                "VALUES (20, '2023-04-12', 14)\r\n",
                "\r\n",
                "UPDATE Kristal.patron\r\n",
                "SET loan_id = 20\r\n",
                "\r\n",
                "UPDATE Kristal.book\r\n",
                "SET available = 0 \r\n",
                "WHERE book_id = 10\r\n",
                "\r\n",
                "INSERT INTO Kristal.loan (patron_id, date_out, book_id)\r\n",
                "VALUES (10, '2023-04-12', 14)\r\n",
                "\r\n",
                "UPDATE Kristal.patron\r\n",
                "SET loan_id = 10\r\n",
                "\r\n",
                "UPDATE Kristal.book\r\n",
                "SET available = 0 \r\n",
                "WHERE book_id = 15\r\n",
                "\r\n",
                "INSERT INTO Kristal.loan (patron_id, date_out, book_id)\r\n",
                "VALUES (15, '2023-04-12', 14)\r\n",
                "\r\n",
                "UPDATE Kristal.patron\r\n",
                "SET loan_id = 15\r\n",
                "\r\n",
                "UPDATE Kristal.book\r\n",
                "SET available = 0 \r\n",
                "WHERE book_id = 19\r\n",
                "\r\n",
                "INSERT INTO Kristal.loan (patron_id, date_out, book_id)\r\n",
                "VALUES (19, '2023-04-12', 14)\r\n",
                "\r\n",
                "UPDATE Kristal.patron\r\n",
                "SET loan_id = 19\r\n",
                "\r\n",
                "UPDATE Kristal.book\r\n",
                "SET available = 0 \r\n",
                "WHERE book_id = 35\r\n",
                "\r\n",
                "INSERT INTO Kristal.loan (patron_id, date_out, book_id)\r\n",
                "VALUES (35, '2023-04-12', 14)\r\n",
                "\r\n",
                "UPDATE Kristal.patron\r\n",
                "SET loan_id = 35"
            ],
            "metadata": {
                "azdata_cell_guid": "1f87d5dc-70ac-4488-bcd2-4a12fddb3f6b",
                "language": "sql"
            },
            "outputs": [
                {
                    "output_type": "display_data",
                    "data": {
                        "text/html": "(1 row affected)"
                    },
                    "metadata": {}
                },
                {
                    "output_type": "display_data",
                    "data": {
                        "text/html": "(1 row affected)"
                    },
                    "metadata": {}
                },
                {
                    "output_type": "display_data",
                    "data": {
                        "text/html": "(48 rows affected)"
                    },
                    "metadata": {}
                },
                {
                    "output_type": "display_data",
                    "data": {
                        "text/html": "(1 row affected)"
                    },
                    "metadata": {}
                },
                {
                    "output_type": "display_data",
                    "data": {
                        "text/html": "(1 row affected)"
                    },
                    "metadata": {}
                },
                {
                    "output_type": "display_data",
                    "data": {
                        "text/html": "(48 rows affected)"
                    },
                    "metadata": {}
                },
                {
                    "output_type": "display_data",
                    "data": {
                        "text/html": "(1 row affected)"
                    },
                    "metadata": {}
                },
                {
                    "output_type": "display_data",
                    "data": {
                        "text/html": "(1 row affected)"
                    },
                    "metadata": {}
                },
                {
                    "output_type": "display_data",
                    "data": {
                        "text/html": "(48 rows affected)"
                    },
                    "metadata": {}
                },
                {
                    "output_type": "display_data",
                    "data": {
                        "text/html": "(1 row affected)"
                    },
                    "metadata": {}
                },
                {
                    "output_type": "display_data",
                    "data": {
                        "text/html": "(1 row affected)"
                    },
                    "metadata": {}
                },
                {
                    "output_type": "display_data",
                    "data": {
                        "text/html": "(48 rows affected)"
                    },
                    "metadata": {}
                },
                {
                    "output_type": "display_data",
                    "data": {
                        "text/html": "(1 row affected)"
                    },
                    "metadata": {}
                },
                {
                    "output_type": "display_data",
                    "data": {
                        "text/html": "(1 row affected)"
                    },
                    "metadata": {}
                },
                {
                    "output_type": "display_data",
                    "data": {
                        "text/html": "(48 rows affected)"
                    },
                    "metadata": {}
                },
                {
                    "output_type": "display_data",
                    "data": {
                        "text/html": "Total execution time: 00:00:00.102"
                    },
                    "metadata": {}
                }
            ],
            "execution_count": 34
        },
        {
            "cell_type": "markdown",
            "source": [
                "## **Part E: Create a temp table**\n",
                "\n",
                "Write a query that returns a temporary table for a patron that shows them all of their loans.\n",
                "\n",
                "_Question to think about:_  Why might a temp table be a good option for this type of query?"
            ],
            "metadata": {
                "azdata_cell_guid": "66e2b5be-ddbf-44db-a903-2c2f08db02d3"
            },
            "attachments": {}
        },
        {
            "cell_type": "code",
            "source": [
                "-- Code your temp table here\r\n",
                "SELECT patron_id, first_name, last_name, loan_id\r\n",
                "INTO #Patron1\r\n",
                "FROM Kristal.patron\r\n",
                "WHERE patron_id = 19\r\n",
                "\r\n",
                "SELECT *\r\n",
                "FROM #Patron1"
            ],
            "metadata": {
                "azdata_cell_guid": "0977ab8b-f0dd-42e5-aed8-79b511dda8bc",
                "language": "sql"
            },
            "outputs": [
                {
                    "output_type": "display_data",
                    "data": {
                        "text/html": "(1 row affected)"
                    },
                    "metadata": {}
                },
                {
                    "output_type": "display_data",
                    "data": {
                        "text/html": "(1 row affected)"
                    },
                    "metadata": {}
                },
                {
                    "output_type": "display_data",
                    "data": {
                        "text/html": "Total execution time: 00:00:00.083"
                    },
                    "metadata": {}
                },
                {
                    "output_type": "execute_result",
                    "metadata": {},
                    "execution_count": 36,
                    "data": {
                        "application/vnd.dataresource+json": {
                            "schema": {
                                "fields": [
                                    {
                                        "name": "patron_id"
                                    },
                                    {
                                        "name": "first_name"
                                    },
                                    {
                                        "name": "last_name"
                                    },
                                    {
                                        "name": "loan_id"
                                    }
                                ]
                            },
                            "data": [
                                {
                                    "0": "19",
                                    "1": "Emmeline",
                                    "2": "Pitherick",
                                    "3": "35"
                                }
                            ]
                        },
                        "text/html": [
                            "<table>",
                            "<tr><th>patron_id</th><th>first_name</th><th>last_name</th><th>loan_id</th></tr>",
                            "<tr><td>19</td><td>Emmeline</td><td>Pitherick</td><td>35</td></tr>",
                            "</table>"
                        ]
                    }
                }
            ],
            "execution_count": 36
        },
        {
            "cell_type": "markdown",
            "source": [
                "## **Part F: Wrap-up Query**\n",
                "\n",
                "Create a query that returns the names of the patrons with the genre of every book they currently have checked out.\n",
                "\n",
                "Things to consider:  How are these tables related and connected to each other?\n",
                "\n",
                "> _Note:  If you find a NULL in your output instead of a loan id,   this is likely because there are multiple loans per patron.  Try_ _clearing out the loan table.  You can do this by either dropping the entire table or clearing specific rows._"
            ],
            "metadata": {
                "azdata_cell_guid": "9e29f561-1501-45ac-b6cf-f2136fe5097f"
            },
            "attachments": {}
        },
        {
            "cell_type": "code",
            "source": [
                "-- Create your Wrap-Up query here:\r\n",
                "-- SELECT genres, genre_id\r\n",
                "-- FROM Kristal.genre\r\n",
                "-- WHERE genre_id = (\r\n",
                "--     SELECT book_id\r\n",
                "--     FROM Kristal.book\r\n",
                "--     WHERE book_id = (\r\n",
                "--         SELECT book_id\r\n",
                "--         FROM Kristal.loan\r\n",
                "--         WHERE book_id = (\r\n",
                "--             SELECT loan_id\r\n",
                "--             FROM Kristal.patron\r\n",
                "--             WHERE patron.loan_id = loan.loan_id\r\n",
                "--         )\r\n",
                "--     )\r\n",
                "-- );\r\n",
                "\r\n",
                "SELECT patron_id, first_name, last_name, loan_id\r\n",
                "FROM Kristal.patron\r\n",
                "WHERE patron_id = (\r\n",
                "    SELECT loan_id\r\n",
                "    FROM Kristal.loan\r\n",
                "    WHERE loan_id = (\r\n",
                "        SELECT book_id\r\n",
                "        FROM Kristal.book\r\n",
                "        WHERE book_id = (\r\n",
                "            SELECT genre_id\r\n",
                "            FROM Kristal.genre\r\n",
                "        )\r\n",
                "    )\r\n",
                ")"
            ],
            "metadata": {
                "azdata_cell_guid": "c568e7c2-283b-43ab-bf66-8982117c181b",
                "language": "sql"
            },
            "outputs": [
                {
                    "output_type": "display_data",
                    "data": {
                        "text/html": "Total execution time: 00:00:00.047"
                    },
                    "metadata": {}
                },
                {
                    "output_type": "execute_result",
                    "metadata": {},
                    "execution_count": 54,
                    "data": {
                        "application/vnd.dataresource+json": {
                            "schema": {
                                "fields": [
                                    {
                                        "name": "patron_id"
                                    },
                                    {
                                        "name": "first_name"
                                    },
                                    {
                                        "name": "last_name"
                                    },
                                    {
                                        "name": "loan_id"
                                    }
                                ]
                            },
                            "data": []
                        },
                        "text/html": [
                            "<table>",
                            "<tr><th>patron_id</th><th>first_name</th><th>last_name</th><th>loan_id</th></tr>",
                            "</table>"
                        ]
                    }
                },
                {
                    "output_type": "error",
                    "evalue": "Msg 512, Level 16, State 1, Line 18\r\nSubquery returned more than 1 value. This is not permitted when the subquery follows =, !=, <, <= , >, >= or when the subquery is used as an expression.",
                    "ename": "",
                    "traceback": []
                }
            ],
            "execution_count": 54
        },
        {
            "cell_type": "markdown",
            "source": [
                "## **Bonus Challenge:**\n",
                "\n",
                "This is an optional challenge.\n",
                "\n",
                "Create a new table for reference materials using the following code:\n",
                "\n",
                "```\n",
                "CREATE TABLE [DB].[schema].reference_books (\n",
                "    reference_id INT IDENTITY(1,1) PRIMARY KEY,\n",
                "    edition INT,\n",
                "    book_id INT,\n",
                "    book_id INT FOREIGN KEY REFERENCES [DB].[schema].book(book_id)\n",
                "        ON UPDATE SET NULL\n",
                "        ON DELETE SET NULL\n",
                ");\n",
                "```\n",
                "\n",
                "Fill the table with the following query:\n",
                "\n",
                "```\n",
                "INSERT INTO [DB].[schema].reference_books (edition, book_id)\n",
                "VALUE (5,32);\n",
                "```"
            ],
            "metadata": {
                "azdata_cell_guid": "863f5070-2fd7-4dfa-aaf8-dfc148362cec"
            },
            "attachments": {}
        },
        {
            "cell_type": "code",
            "source": [
                "-- Create and fill your reference table here:\n",
                "CREATE TABLE [JunkDB_KC].[Kristal].reference_books (\n",
                "    reference_id INT IDENTITY(1,1) PRIMARY KEY,\n",
                "    edition INT,\n",
                "    book_id INT FOREIGN KEY REFERENCES [JunkDB_KC].[Kristal].book(book_id)\n",
                "        ON UPDATE SET NULL\n",
                "        ON DELETE SET NULL\n",
                ");\n",
                "\n",
                "INSERT INTO [JunkDB_KC].[Kristal].reference_books (edition, book_id)\n",
                "VALUES (5,32);"
            ],
            "metadata": {
                "azdata_cell_guid": "b7699c0f-e06b-429b-bd94-9cca18968797",
                "language": "sql"
            },
            "outputs": [
                {
                    "output_type": "display_data",
                    "data": {
                        "text/html": "(1 row affected)"
                    },
                    "metadata": {}
                },
                {
                    "output_type": "display_data",
                    "data": {
                        "text/html": "Total execution time: 00:00:00.059"
                    },
                    "metadata": {}
                }
            ],
            "execution_count": 16
        },
        {
            "cell_type": "markdown",
            "source": [
                "<span style=\"font-size: 14px; font-family: -apple-system, BlinkMacSystemFont, sans-serif;\">A reference book cannot leave the library.&nbsp; How would you modify either the <b>reference_book</b> table or the <b>book</b> table to make sure that doesn't happen?&nbsp; Try to apply your modifications.</span>"
            ],
            "metadata": {
                "azdata_cell_guid": "e647d002-c3ae-415c-9fb3-c2e8c7e5ec7f"
            },
            "attachments": {}
        },
        {
            "cell_type": "code",
            "source": [
                ""
            ],
            "metadata": {
                "azdata_cell_guid": "cda48d86-f21a-4782-8a8f-25a570295bee",
                "language": "sql"
            },
            "outputs": [],
            "execution_count": null
        }
    ]
}